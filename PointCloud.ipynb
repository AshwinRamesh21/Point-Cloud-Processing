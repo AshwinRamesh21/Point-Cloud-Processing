{
 "cells": [
  {
   "cell_type": "markdown",
   "id": "931ece55",
   "metadata": {},
   "source": [
    "# Point Cloud Processing with Python and Open3D"
   ]
  },
  {
   "cell_type": "markdown",
   "id": "042257b7",
   "metadata": {},
   "source": [
    "## Quaranteam Hackathon - Codeacademy"
   ]
  },
  {
   "cell_type": "markdown",
   "id": "0918ea57",
   "metadata": {},
   "source": [
    "# What are Point Clouds?"
   ]
  },
  {
   "cell_type": "markdown",
   "id": "0914dfac",
   "metadata": {},
   "source": [
    "Point clouds are datasets that represent objects or space. These points represent the X, Y, and Z geometric coordinates of a single point on an underlying sampled surface.\n",
    "They are a means of collating a large number of single spatial measurements into a dataset that can then represent a whole data."
   ]
  },
  {
   "cell_type": "markdown",
   "id": "df629ea5",
   "metadata": {},
   "source": [
    "Point clouds provide high-resolution data without the distortion sometimes present in 3D mesh models and are commonly used in industry-standard software."
   ]
  },
  {
   "cell_type": "markdown",
   "id": "76c076fd",
   "metadata": {},
   "source": [
    "<img src=\"Images/pic.png\"> "
   ]
  },
  {
   "cell_type": "markdown",
   "id": "09c48ead",
   "metadata": {},
   "source": [
    "<img style=\"float: center;\" src=\"Images/pog.png\">"
   ]
  },
  {
   "cell_type": "markdown",
   "id": "7cef499c",
   "metadata": {},
   "source": [
    "## Use of Point Clouds"
   ]
  },
  {
   "cell_type": "markdown",
   "id": "6573db30",
   "metadata": {},
   "source": [
    "Point clouds are used for many purposes like creating 3D CAD models for manufactured parts, for metrology and quality inspection, and for a multitude of visualization, animation, rendering and mass customization applications."
   ]
  },
  {
   "cell_type": "markdown",
   "id": "be424400",
   "metadata": {},
   "source": [
    "## 3D Meshes"
   ]
  },
  {
   "cell_type": "markdown",
   "id": "a545cda2",
   "metadata": {},
   "source": [
    "Now, we know what point clouds are. We will look at another common term that is fairly associated with the world of 3D modelling and in this case, point clouds. That term is called 3D Mesh. 3D meshes are geometric data structures most often composed of a bunch of connected triangles that explicitly describe a surface. They are used in a wide range of applications from geospatial reconstructions to VFX, movies and video games. "
   ]
  },
  {
   "cell_type": "markdown",
   "id": "1db2769b",
   "metadata": {},
   "source": [
    "<img style=\"float:center;\" src=\"Images/dino.gif\">"
   ]
  },
  {
   "cell_type": "markdown",
   "id": "b627a8c0",
   "metadata": {},
   "source": [
    "## LOD - Levels of Details"
   ]
  },
  {
   "cell_type": "markdown",
   "id": "74056cb8",
   "metadata": {},
   "source": [
    "In computer graphics, level of detail (LOD) refers to the complexity of a 3D model representation. LOD can be decreased as the model moves away from the viewer or according to other metrics such as object importance, viewpoint-relative speed or position. LOD techniques increase the efficiency of rendering by decreasing the workload on graphics pipeline stages, usually vertex transformations."
   ]
  },
  {
   "cell_type": "markdown",
   "id": "7140115b",
   "metadata": {},
   "source": [
    "# The Code"
   ]
  },
  {
   "cell_type": "markdown",
   "id": "17dd6d18",
   "metadata": {},
   "source": [
    "Necessary Python libraries requires are **Numpy** and **Open3D**. "
   ]
  },
  {
   "cell_type": "markdown",
   "id": "ecac83e3",
   "metadata": {},
   "source": [
    "NumPy is an open-source which offers comprehensive mathematical functions, random number generators, linear algebra routines, Fourier transforms, and more.\n",
    "Open3D is an open-source library that supports rapid development of software that deals with 3D data."
   ]
  },
  {
   "cell_type": "code",
   "execution_count": 1,
   "id": "b008c049",
   "metadata": {},
   "outputs": [
    {
     "name": "stdout",
     "output_type": "stream",
     "text": [
      "Jupyter environment detected. Enabling Open3D WebVisualizer.\n",
      "[Open3D INFO] WebRTC GUI backend enabled.\n",
      "[Open3D INFO] WebRTCWindowSystem: HTTP handshake server disabled.\n"
     ]
    }
   ],
   "source": [
    "#Imports\n",
    "import numpy as np\n",
    "import open3d as o3d"
   ]
  },
  {
   "cell_type": "code",
   "execution_count": 2,
   "id": "0c3e427e",
   "metadata": {},
   "outputs": [],
   "source": [
    "#File Location\n",
    "input_path=\"C:/Users/ashwi/Documents/Python/Projects/Point Cloud/sample_w_normals.xyz\"\n",
    "output_path =\"C:/Users/ashwi/Documents/Python/Projects/Point Cloud/Cloud Mesh/\"\n",
    "point_cloud= np.loadtxt(input_path,skiprows=1)"
   ]
  },
  {
   "cell_type": "markdown",
   "id": "181ab38b",
   "metadata": {},
   "source": [
    "Here we transform the point_cloud variable type from Numpy to the Open3D **o3d.geometry.PointCloud** type for further processing"
   ]
  },
  {
   "cell_type": "code",
   "execution_count": 3,
   "id": "cbef48c4",
   "metadata": {},
   "outputs": [],
   "source": [
    "#Point Cloud Conversion from NumPy to O3D\n",
    "pcd = o3d.geometry.PointCloud()\n",
    "pcd.points = o3d.utility.Vector3dVector(point_cloud[:,:3])\n",
    "pcd.colors = o3d.utility.Vector3dVector(point_cloud[:,3:6]/255)\n",
    "pcd.normals = o3d.utility.Vector3dVector(point_cloud[:,6:9])"
   ]
  },
  {
   "cell_type": "markdown",
   "id": "ea5d4d31",
   "metadata": {},
   "source": [
    "To see the imported model through Open3D, run the command."
   ]
  },
  {
   "cell_type": "code",
   "execution_count": 4,
   "id": "f2df052d",
   "metadata": {},
   "outputs": [],
   "source": [
    "o3d.visualization.draw_geometries([pcd])"
   ]
  },
  {
   "cell_type": "markdown",
   "id": "53da4701",
   "metadata": {},
   "source": [
    "## Ball Pivoting Algorithm - Method - 1"
   ]
  },
  {
   "cell_type": "markdown",
   "id": "bcebc39d",
   "metadata": {},
   "source": [
    "It is a type of an algorithm, where we let a \"ball\" which is dependent on the scale of the mesh and also larger than the average of 2 points in the mesh to find the point cloud from the particular mesh.\n",
    "\n",
    "When the ball is rolling, it will eventually get \"stuck\" upon 3 points which results in the formation of a **\"Seed Triangle\"**. From that location, the ball rolls along the triangle edge formed from two points. The ball then settles in a new location: a new triangle is formed from two of the previous vertices and one new triangle is added to the mesh. As we continue rolling and pivoting the ball, new triangles are formed and added to the mesh. The ball continues rolling and rolling until the mesh is fully formed."
   ]
  },
  {
   "cell_type": "markdown",
   "id": "74540e21",
   "metadata": {},
   "source": [
    "The values of the variables like Radius of the ball and Average distances between the points are based on the size and scale of the input point cloud.\n",
    "Here, the smaller the Radius of the ball, more triangles, which results in more detailed mesh. Keep in mind that, the number of the traingles in a model is directly proportional to the model's depth, clarity and definition. Be aware that it will increase the computational time and CPU usage. "
   ]
  },
  {
   "cell_type": "markdown",
   "id": "411539a2",
   "metadata": {},
   "source": [
    "<img src=\"Images/bpa.png\"> "
   ]
  },
  {
   "cell_type": "code",
   "execution_count": 5,
   "id": "dc1398cf",
   "metadata": {},
   "outputs": [],
   "source": [
    "#BPA - Variables\n",
    "distances = pcd.compute_nearest_neighbor_distance()\n",
    "avg_dist = np.mean(distances)\n",
    "radius = 3 * avg_dist"
   ]
  },
  {
   "cell_type": "code",
   "execution_count": 6,
   "id": "2a468125",
   "metadata": {},
   "outputs": [],
   "source": [
    "#Mesh Computation\n",
    "bpa_mesh = o3d.geometry.TriangleMesh.create_from_point_cloud_ball_pivoting(pcd,o3d.utility.DoubleVector([radius, radius * 2]))"
   ]
  },
  {
   "cell_type": "code",
   "execution_count": 7,
   "id": "2a06cdba",
   "metadata": {
    "scrolled": true
   },
   "outputs": [],
   "source": [
    "#Mesh Decimation \n",
    "dec_mesh = o3d.geometry.TriangleMesh.simplify_quadric_decimation(bpa_mesh,100000)"
   ]
  },
  {
   "cell_type": "markdown",
   "id": "096ccba0",
   "metadata": {},
   "source": [
    "After the BPA Mesh has been created, it is necessary to crop and remove all the duplicate and unprocessed points in the mesh which might yield inconsistencies throughout the model. So we use the functions provided in the Open3D library. "
   ]
  },
  {
   "cell_type": "code",
   "execution_count": 8,
   "id": "20f592c7",
   "metadata": {},
   "outputs": [
    {
     "data": {
      "text/plain": [
       "TriangleMesh with 87725 points and 99981 triangles."
      ]
     },
     "execution_count": 8,
     "metadata": {},
     "output_type": "execute_result"
    }
   ],
   "source": [
    "#Mesh Consistency\n",
    "dec_mesh.remove_degenerate_triangles()\n",
    "dec_mesh.remove_duplicated_triangles()\n",
    "dec_mesh.remove_duplicated_vertices()\n",
    "dec_mesh.remove_non_manifold_edges()"
   ]
  },
  {
   "cell_type": "markdown",
   "id": "05509f92",
   "metadata": {},
   "source": [
    "## Poisson Reconstruction - Method 2"
   ]
  },
  {
   "cell_type": "markdown",
   "id": "bb9cce8f",
   "metadata": {},
   "source": [
    "The Poisson Reconstruction is a bit more mathematical as it involves computation of the implicit function along with the reconstruction of the surface based on the CGAL library's function **Delaunay Refinement**. Its approach is known as an implicit meshing method. To put it in simpler terms, we take a smooth cloth material and put it on the mesh which results in the watertight model."
   ]
  },
  {
   "cell_type": "markdown",
   "id": "7032e6e2",
   "metadata": {},
   "source": [
    "<img src=\"Images/eros.jpg\"> "
   ]
  },
  {
   "cell_type": "code",
   "execution_count": 9,
   "id": "475b9771",
   "metadata": {},
   "outputs": [],
   "source": [
    "#Poisson Reconstruction\n",
    "poisson_mesh = o3d.geometry.TriangleMesh.create_from_point_cloud_poisson(pcd, depth=8, width=0, scale=1.1, linear_fit=False)[0]"
   ]
  },
  {
   "cell_type": "code",
   "execution_count": 10,
   "id": "fecb0c51",
   "metadata": {},
   "outputs": [],
   "source": [
    "#Mesh Cropping\n",
    "bbox = pcd.get_axis_aligned_bounding_box()\n",
    "p_mesh_crop = poisson_mesh.crop(bbox)"
   ]
  },
  {
   "cell_type": "markdown",
   "id": "a31bee0e",
   "metadata": {},
   "source": [
    "Once we clean our model, we just have to export it. "
   ]
  },
  {
   "cell_type": "markdown",
   "id": "9fc5ed63",
   "metadata": {},
   "source": [
    "In order to view the result, there are a lot of open-source 3D modelling software such as Blender and Meshlab. Download them, or you can either view them directly in Windows ny using the defualt 3D Model Viewer. Since, we are exporting the meshes direclty in **.ply (Polygon File Format)** format, it will be easy for us to load them and play with them in Blender. "
   ]
  },
  {
   "cell_type": "code",
   "execution_count": 11,
   "id": "6e5b406b",
   "metadata": {},
   "outputs": [
    {
     "data": {
      "text/plain": [
       "True"
      ]
     },
     "execution_count": 11,
     "metadata": {},
     "output_type": "execute_result"
    }
   ],
   "source": [
    "#Export\n",
    "o3d.io.write_triangle_mesh(output_path+\"bpa_mesh.ply\", dec_mesh)\n",
    "o3d.io.write_triangle_mesh(output_path+\"p_mesh_c.ply\", p_mesh_crop)"
   ]
  },
  {
   "cell_type": "markdown",
   "id": "068d841e",
   "metadata": {},
   "source": [
    "# BPA vs. Poisson"
   ]
  },
  {
   "cell_type": "markdown",
   "id": "e28cf97c",
   "metadata": {},
   "source": [
    "Fig. 1 - BPA Mesh with the \"Balls rolled\""
   ]
  },
  {
   "cell_type": "markdown",
   "id": "b9273415",
   "metadata": {},
   "source": [
    "<img src=\"Images/b1.png\"> "
   ]
  },
  {
   "cell_type": "markdown",
   "id": "7d9f11e4",
   "metadata": {},
   "source": [
    "Fig. 2 - Poisson Reconstruucted Mesh"
   ]
  },
  {
   "cell_type": "markdown",
   "id": "adf79ad7",
   "metadata": {},
   "source": [
    "<img src=\"Images/b3.png\"> "
   ]
  }
 ],
 "metadata": {
  "kernelspec": {
   "display_name": "Python 3 (ipykernel)",
   "language": "python",
   "name": "python3"
  },
  "language_info": {
   "codemirror_mode": {
    "name": "ipython",
    "version": 3
   },
   "file_extension": ".py",
   "mimetype": "text/x-python",
   "name": "python",
   "nbconvert_exporter": "python",
   "pygments_lexer": "ipython3",
   "version": "3.7.7"
  }
 },
 "nbformat": 4,
 "nbformat_minor": 5
}
